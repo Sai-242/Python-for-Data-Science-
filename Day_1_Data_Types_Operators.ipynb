class Shirt:

def __init__ (self) :

self.color="Red"

self.size-"Medium"

shirtl=Shirt()

shirt2-shirtl

shirtl.color-"Yellow"

shirt2.color="Green"

shirt 2=Shirt ()

shirt2.size="Large"


